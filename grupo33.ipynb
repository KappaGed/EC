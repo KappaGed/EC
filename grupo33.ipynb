{
 "cells": [
  {
   "cell_type": "markdown",
   "id": "cdcb0e0a",
   "metadata": {
    "tags": []
   },
   "source": [
    "# Projeto2 de Engenharia do Conhecimento\n",
    "\n",
    "Neste projeto pretende-se selecionar os melhores modelos de classificação possiveis usando os métodos dados em aula.\n",
    "O Dataset estudado é uma versão editada e aprimorada do QSAR biodegradation Data Set, e a variável a classificar é Biodegradable.\n",
    "Neste projeto é usada a técnina Grid Search para definir os melhores hiper-parâmetros para cada modelo de classificação.\n",
    "\n",
    "Começamos então por importar todas a bibliotecas necessárias para a execução do nosso notebook:"
   ]
  },
  {
   "cell_type": "code",
   "execution_count": 210,
   "id": "fa31b95d",
   "metadata": {},
   "outputs": [],
   "source": [
    "import pandas as pd\n",
    "import numpy as np\n",
    "import matplotlib.pyplot as plt\n",
    "from sklearn.impute import SimpleImputer\n",
    "from sklearn.preprocessing import StandardScaler\n",
    "from sklearn.feature_selection import SequentialFeatureSelector, f_classif \n",
    "from sklearn.model_selection import train_test_split, cross_val_score, GridSearchCV\n",
    "from sklearn.linear_model import LogisticRegression\n",
    "from sklearn.tree import DecisionTreeClassifier\n",
    "from sklearn.ensemble import RandomForestClassifier\n",
    "from sklearn.svm import SVC\n",
    "from sklearn.metrics import accuracy_score, precision_score, recall_score, f1_score, matthews_corrcoef, confusion_matrix, classification_report"
   ]
  },
  {
   "cell_type": "markdown",
   "id": "423e58e5-e164-4e42-b5bc-10c41a5f8462",
   "metadata": {},
   "source": [
    "E de seguida importamos o ficheiro csv para data, usando o método read_csv do panda para criar um dataset do estilo que temos em baixo com este ficheiro:"
   ]
  },
  {
   "cell_type": "code",
   "execution_count": 211,
   "id": "9a6ecd56-26c9-4f6f-b175-3b597be58356",
   "metadata": {},
   "outputs": [],
   "source": [
    "data = pd.read_csv('biodegradable_a.csv', sep=',', header=None)"
   ]
  },
  {
   "cell_type": "code",
   "execution_count": 212,
   "id": "df047a05-0077-4418-93d4-6302e93f8768",
   "metadata": {},
   "outputs": [
    {
     "data": {
      "text/html": [
       "<div>\n",
       "<style scoped>\n",
       "    .dataframe tbody tr th:only-of-type {\n",
       "        vertical-align: middle;\n",
       "    }\n",
       "\n",
       "    .dataframe tbody tr th {\n",
       "        vertical-align: top;\n",
       "    }\n",
       "\n",
       "    .dataframe thead th {\n",
       "        text-align: right;\n",
       "    }\n",
       "</style>\n",
       "<table border=\"1\" class=\"dataframe\">\n",
       "  <thead>\n",
       "    <tr style=\"text-align: right;\">\n",
       "      <th></th>\n",
       "      <th>0</th>\n",
       "      <th>1</th>\n",
       "      <th>2</th>\n",
       "      <th>3</th>\n",
       "      <th>4</th>\n",
       "      <th>5</th>\n",
       "      <th>6</th>\n",
       "      <th>7</th>\n",
       "      <th>8</th>\n",
       "      <th>9</th>\n",
       "      <th>...</th>\n",
       "      <th>32</th>\n",
       "      <th>33</th>\n",
       "      <th>34</th>\n",
       "      <th>35</th>\n",
       "      <th>36</th>\n",
       "      <th>37</th>\n",
       "      <th>38</th>\n",
       "      <th>39</th>\n",
       "      <th>40</th>\n",
       "      <th>41</th>\n",
       "    </tr>\n",
       "  </thead>\n",
       "  <tbody>\n",
       "    <tr>\n",
       "      <th>0</th>\n",
       "      <td>SpMax_L</td>\n",
       "      <td>J_Dz(e)</td>\n",
       "      <td>nHM</td>\n",
       "      <td>F01</td>\n",
       "      <td>F04</td>\n",
       "      <td>NssssC</td>\n",
       "      <td>nCb</td>\n",
       "      <td>C</td>\n",
       "      <td>nCp</td>\n",
       "      <td>nO</td>\n",
       "      <td>...</td>\n",
       "      <td>C_026</td>\n",
       "      <td>F02_CN</td>\n",
       "      <td>nHDon</td>\n",
       "      <td>SpMax_B</td>\n",
       "      <td>Psi_i_A</td>\n",
       "      <td>nN</td>\n",
       "      <td>SM6_B</td>\n",
       "      <td>nArCOOR</td>\n",
       "      <td>nX</td>\n",
       "      <td>Biodegradable</td>\n",
       "    </tr>\n",
       "    <tr>\n",
       "      <th>1</th>\n",
       "      <td>3.919</td>\n",
       "      <td>2.6909</td>\n",
       "      <td>0.0</td>\n",
       "      <td>0.0</td>\n",
       "      <td>0.0</td>\n",
       "      <td>0.0</td>\n",
       "      <td>0.0</td>\n",
       "      <td>31.4</td>\n",
       "      <td>2.0</td>\n",
       "      <td>0.0</td>\n",
       "      <td>...</td>\n",
       "      <td>0.0</td>\n",
       "      <td>0.0</td>\n",
       "      <td>0.0</td>\n",
       "      <td>2.949</td>\n",
       "      <td>1.591</td>\n",
       "      <td>0.0</td>\n",
       "      <td>7.253</td>\n",
       "      <td>0.0</td>\n",
       "      <td>0.0</td>\n",
       "      <td>RB</td>\n",
       "    </tr>\n",
       "    <tr>\n",
       "      <th>2</th>\n",
       "      <td>4.17</td>\n",
       "      <td>2.1144</td>\n",
       "      <td>0.0</td>\n",
       "      <td>0.0</td>\n",
       "      <td>0.0</td>\n",
       "      <td>0.0</td>\n",
       "      <td>0.0</td>\n",
       "      <td>30.8</td>\n",
       "      <td>1.0</td>\n",
       "      <td>1.0</td>\n",
       "      <td>...</td>\n",
       "      <td>0.0</td>\n",
       "      <td>0.0</td>\n",
       "      <td>0.0</td>\n",
       "      <td>3.315</td>\n",
       "      <td>1.967</td>\n",
       "      <td>0.0</td>\n",
       "      <td>7.257</td>\n",
       "      <td>0.0</td>\n",
       "      <td>0.0</td>\n",
       "      <td>RB</td>\n",
       "    </tr>\n",
       "    <tr>\n",
       "      <th>3</th>\n",
       "      <td>3.932</td>\n",
       "      <td>3.2512</td>\n",
       "      <td>0.0</td>\n",
       "      <td>0.0</td>\n",
       "      <td>0.0</td>\n",
       "      <td>0.0</td>\n",
       "      <td>0.0</td>\n",
       "      <td>26.7</td>\n",
       "      <td>2.0</td>\n",
       "      <td>4.0</td>\n",
       "      <td>...</td>\n",
       "      <td>0.0</td>\n",
       "      <td>0.0</td>\n",
       "      <td>1.0</td>\n",
       "      <td>NaN</td>\n",
       "      <td>2.417</td>\n",
       "      <td>0.0</td>\n",
       "      <td>7.601</td>\n",
       "      <td>0.0</td>\n",
       "      <td>0.0</td>\n",
       "      <td>RB</td>\n",
       "    </tr>\n",
       "    <tr>\n",
       "      <th>4</th>\n",
       "      <td>3.0</td>\n",
       "      <td>2.7098</td>\n",
       "      <td>0.0</td>\n",
       "      <td>0.0</td>\n",
       "      <td>0.0</td>\n",
       "      <td>0.0</td>\n",
       "      <td>0.0</td>\n",
       "      <td>20.0</td>\n",
       "      <td>NaN</td>\n",
       "      <td>2.0</td>\n",
       "      <td>...</td>\n",
       "      <td>0.0</td>\n",
       "      <td>0.0</td>\n",
       "      <td>1.0</td>\n",
       "      <td>NaN</td>\n",
       "      <td>5.0</td>\n",
       "      <td>0.0</td>\n",
       "      <td>6.69</td>\n",
       "      <td>0.0</td>\n",
       "      <td>0.0</td>\n",
       "      <td>RB</td>\n",
       "    </tr>\n",
       "    <tr>\n",
       "      <th>...</th>\n",
       "      <td>...</td>\n",
       "      <td>...</td>\n",
       "      <td>...</td>\n",
       "      <td>...</td>\n",
       "      <td>...</td>\n",
       "      <td>...</td>\n",
       "      <td>...</td>\n",
       "      <td>...</td>\n",
       "      <td>...</td>\n",
       "      <td>...</td>\n",
       "      <td>...</td>\n",
       "      <td>...</td>\n",
       "      <td>...</td>\n",
       "      <td>...</td>\n",
       "      <td>...</td>\n",
       "      <td>...</td>\n",
       "      <td>...</td>\n",
       "      <td>...</td>\n",
       "      <td>...</td>\n",
       "      <td>...</td>\n",
       "      <td>...</td>\n",
       "    </tr>\n",
       "    <tr>\n",
       "      <th>4560</th>\n",
       "      <td>4.175650221154054</td>\n",
       "      <td>3.4546485477276168</td>\n",
       "      <td>0.0</td>\n",
       "      <td>0.0</td>\n",
       "      <td>0.0</td>\n",
       "      <td>0.0</td>\n",
       "      <td>0.0</td>\n",
       "      <td>27.3</td>\n",
       "      <td>2.0</td>\n",
       "      <td>2.0</td>\n",
       "      <td>...</td>\n",
       "      <td>0.0</td>\n",
       "      <td>0.0</td>\n",
       "      <td>0.0</td>\n",
       "      <td>3.3983819479917696</td>\n",
       "      <td>3.2410900893796684</td>\n",
       "      <td>0.0</td>\n",
       "      <td>7.406747594846807</td>\n",
       "      <td>0.0</td>\n",
       "      <td>0.0</td>\n",
       "      <td>RB</td>\n",
       "    </tr>\n",
       "    <tr>\n",
       "      <th>4561</th>\n",
       "      <td>3.853730569534719</td>\n",
       "      <td>2.747141834295752</td>\n",
       "      <td>0.0</td>\n",
       "      <td>NaN</td>\n",
       "      <td>0.0</td>\n",
       "      <td>0.0</td>\n",
       "      <td>0.0</td>\n",
       "      <td>33.3</td>\n",
       "      <td>0.0</td>\n",
       "      <td>0.0</td>\n",
       "      <td>...</td>\n",
       "      <td>0.0</td>\n",
       "      <td>0.0</td>\n",
       "      <td>1.0</td>\n",
       "      <td>3.4291479563760205</td>\n",
       "      <td>2.7193085779457116</td>\n",
       "      <td>0.0</td>\n",
       "      <td>7.511510650794673</td>\n",
       "      <td>0.0</td>\n",
       "      <td>0.0</td>\n",
       "      <td>RB</td>\n",
       "    </tr>\n",
       "    <tr>\n",
       "      <th>4562</th>\n",
       "      <td>4.2947709909647</td>\n",
       "      <td>3.471225936195339</td>\n",
       "      <td>0.0</td>\n",
       "      <td>0.0</td>\n",
       "      <td>0.0</td>\n",
       "      <td>0.0</td>\n",
       "      <td>0.0</td>\n",
       "      <td>28.42215386583151</td>\n",
       "      <td>2.0</td>\n",
       "      <td>2.0</td>\n",
       "      <td>...</td>\n",
       "      <td>0.0</td>\n",
       "      <td>0.0</td>\n",
       "      <td>0.0</td>\n",
       "      <td>3.3516663737107066</td>\n",
       "      <td>2.7294558209008986</td>\n",
       "      <td>0.0</td>\n",
       "      <td>7.699323519308668</td>\n",
       "      <td>0.0</td>\n",
       "      <td>0.0</td>\n",
       "      <td>RB</td>\n",
       "    </tr>\n",
       "    <tr>\n",
       "      <th>4563</th>\n",
       "      <td>4.560375722905787</td>\n",
       "      <td>3.8963903146205348</td>\n",
       "      <td>0.0</td>\n",
       "      <td>0.0</td>\n",
       "      <td>0.0</td>\n",
       "      <td>0.0</td>\n",
       "      <td>0.0</td>\n",
       "      <td>NaN</td>\n",
       "      <td>2.0</td>\n",
       "      <td>3.0</td>\n",
       "      <td>...</td>\n",
       "      <td>0.0</td>\n",
       "      <td>0.0</td>\n",
       "      <td>0.0</td>\n",
       "      <td>NaN</td>\n",
       "      <td>3.0591980135789765</td>\n",
       "      <td>0.0</td>\n",
       "      <td>7.9088019864210235</td>\n",
       "      <td>0.0</td>\n",
       "      <td>0.0</td>\n",
       "      <td>RB</td>\n",
       "    </tr>\n",
       "    <tr>\n",
       "      <th>4564</th>\n",
       "      <td>4.045097354180179</td>\n",
       "      <td>2.847185127468939</td>\n",
       "      <td>0.0</td>\n",
       "      <td>0.0</td>\n",
       "      <td>0.0</td>\n",
       "      <td>0.0</td>\n",
       "      <td>0.0</td>\n",
       "      <td>23.38664251958401</td>\n",
       "      <td>1.0</td>\n",
       "      <td>1.0</td>\n",
       "      <td>...</td>\n",
       "      <td>0.0</td>\n",
       "      <td>2.0</td>\n",
       "      <td>2.0</td>\n",
       "      <td>3.032223795235685</td>\n",
       "      <td>2.6133574804159876</td>\n",
       "      <td>1.0</td>\n",
       "      <td>6.86331401566721</td>\n",
       "      <td>0.0</td>\n",
       "      <td>0.0</td>\n",
       "      <td>RB</td>\n",
       "    </tr>\n",
       "  </tbody>\n",
       "</table>\n",
       "<p>4565 rows × 42 columns</p>\n",
       "</div>"
      ],
      "text/plain": [
       "                     0                   1    2    3    4       5    6   \\\n",
       "0               SpMax_L             J_Dz(e)  nHM  F01  F04  NssssC  nCb   \n",
       "1                 3.919              2.6909  0.0  0.0  0.0     0.0  0.0   \n",
       "2                  4.17              2.1144  0.0  0.0  0.0     0.0  0.0   \n",
       "3                 3.932              3.2512  0.0  0.0  0.0     0.0  0.0   \n",
       "4                   3.0              2.7098  0.0  0.0  0.0     0.0  0.0   \n",
       "...                 ...                 ...  ...  ...  ...     ...  ...   \n",
       "4560  4.175650221154054  3.4546485477276168  0.0  0.0  0.0     0.0  0.0   \n",
       "4561  3.853730569534719   2.747141834295752  0.0  NaN  0.0     0.0  0.0   \n",
       "4562    4.2947709909647   3.471225936195339  0.0  0.0  0.0     0.0  0.0   \n",
       "4563  4.560375722905787  3.8963903146205348  0.0  0.0  0.0     0.0  0.0   \n",
       "4564  4.045097354180179   2.847185127468939  0.0  0.0  0.0     0.0  0.0   \n",
       "\n",
       "                     7    8    9   ...     32      33     34  \\\n",
       "0                     C  nCp   nO  ...  C_026  F02_CN  nHDon   \n",
       "1                  31.4  2.0  0.0  ...    0.0     0.0    0.0   \n",
       "2                  30.8  1.0  1.0  ...    0.0     0.0    0.0   \n",
       "3                  26.7  2.0  4.0  ...    0.0     0.0    1.0   \n",
       "4                  20.0  NaN  2.0  ...    0.0     0.0    1.0   \n",
       "...                 ...  ...  ...  ...    ...     ...    ...   \n",
       "4560               27.3  2.0  2.0  ...    0.0     0.0    0.0   \n",
       "4561               33.3  0.0  0.0  ...    0.0     0.0    1.0   \n",
       "4562  28.42215386583151  2.0  2.0  ...    0.0     0.0    0.0   \n",
       "4563                NaN  2.0  3.0  ...    0.0     0.0    0.0   \n",
       "4564  23.38664251958401  1.0  1.0  ...    0.0     2.0    2.0   \n",
       "\n",
       "                      35                  36   37                  38  \\\n",
       "0                SpMax_B             Psi_i_A   nN               SM6_B   \n",
       "1                  2.949               1.591  0.0               7.253   \n",
       "2                  3.315               1.967  0.0               7.257   \n",
       "3                    NaN               2.417  0.0               7.601   \n",
       "4                    NaN                 5.0  0.0                6.69   \n",
       "...                  ...                 ...  ...                 ...   \n",
       "4560  3.3983819479917696  3.2410900893796684  0.0   7.406747594846807   \n",
       "4561  3.4291479563760205  2.7193085779457116  0.0   7.511510650794673   \n",
       "4562  3.3516663737107066  2.7294558209008986  0.0   7.699323519308668   \n",
       "4563                 NaN  3.0591980135789765  0.0  7.9088019864210235   \n",
       "4564   3.032223795235685  2.6133574804159876  1.0    6.86331401566721   \n",
       "\n",
       "           39   40             41  \n",
       "0     nArCOOR   nX  Biodegradable  \n",
       "1         0.0  0.0             RB  \n",
       "2         0.0  0.0             RB  \n",
       "3         0.0  0.0             RB  \n",
       "4         0.0  0.0             RB  \n",
       "...       ...  ...            ...  \n",
       "4560      0.0  0.0             RB  \n",
       "4561      0.0  0.0             RB  \n",
       "4562      0.0  0.0             RB  \n",
       "4563      0.0  0.0             RB  \n",
       "4564      0.0  0.0             RB  \n",
       "\n",
       "[4565 rows x 42 columns]"
      ]
     },
     "execution_count": 212,
     "metadata": {},
     "output_type": "execute_result"
    }
   ],
   "source": [
    "data"
   ]
  },
  {
   "cell_type": "markdown",
   "id": "38462081-14a4-40cc-9657-7cefa834bf73",
   "metadata": {},
   "source": [
    "## Tratamento dos Dados\n",
    "Como podemos observar na tabela e também como é referido no enunciado, os dados têm valores em falta, não estão normalizados, e contêm variáveis categóricas e contínuas, portanto antes de começar a avaliar os modelos, temos que tratar os dados.\n",
    "\n",
    "Começamos por separar a variável a classificar das restantes, atribuindo a X todo o Dataset menos a última coluna (coluna da variável a classificar Biodegradable) e menos a primeira linha (para remover o nome das colunas).\n",
    "A y atribuimos apenas a última coluna do Dataset (coluna da variável a classificar Biodegradable) sem a primeira linha também para remover o nome da coluna:"
   ]
  },
  {
   "cell_type": "code",
   "execution_count": 213,
   "id": "ce3eec20",
   "metadata": {
    "scrolled": true
   },
   "outputs": [],
   "source": [
    "#Separação dos dados dos nomes das colunas\n",
    "X = data.iloc[1:,:-1]\n",
    "y = data.iloc[1:, -1]"
   ]
  },
  {
   "cell_type": "markdown",
   "id": "d9500284-bccc-406d-923e-03c6f162099d",
   "metadata": {},
   "source": [
    "De seguida, usamos o SimpleImputer com a estratégia 'median' para preencher os valores em falta do Dataset:"
   ]
  },
  {
   "cell_type": "code",
   "execution_count": 214,
   "id": "7dcb230c-e36a-495c-be6d-f646fffdbffe",
   "metadata": {},
   "outputs": [],
   "source": [
    "#Preenche espaços vazios no dataset usando o SimpleImputer com a strategy median\n",
    "imputer = SimpleImputer(strategy='median')\n",
    "X = pd.DataFrame(imputer.fit_transform(X))"
   ]
  },
  {
   "cell_type": "markdown",
   "id": "190622f8-8bfa-4db0-aff5-0b6a369def73",
   "metadata": {},
   "source": [
    "Usamos o StandardScaler para normalizar os dados:"
   ]
  },
  {
   "cell_type": "code",
   "execution_count": 215,
   "id": "b9f42db0-8a74-421e-8761-51c4aa278cb1",
   "metadata": {},
   "outputs": [],
   "source": [
    "#Normalização dos dados usando o StandardScalers\n",
    "scaler = StandardScaler()\n",
    "X = pd.DataFrame(scaler.fit_transform(X))"
   ]
  },
  {
   "cell_type": "markdown",
   "id": "220464f6-33ca-4422-ac50-4f468d741171",
   "metadata": {},
   "source": [
    "E selecionamos as colunas mais importantes. Usamos o SequentialFeatureSelector com Logistic Regression avalia as interações entre as colunas e escolhe que colunas seleciona com base no seu impacto no desempenho do modelo.\n",
    "São selecionadas as 15 colunas mais importantes, 15 para não serem nem demasiadas colunas, nem demasiado poucas. Demasiadas colunas, principalmente usando o Grid Search pode causar tempos de execução muito longos, enquanto poucas podem por em causa os resultados obtidos:\n",
    "\n",
    "#### Nota:\n",
    "Pode demorar uns minutos a executar"
   ]
  },
  {
   "cell_type": "code",
   "execution_count": 216,
   "id": "b9449e30-f8dd-48cd-97e2-2f344965ee4d",
   "metadata": {},
   "outputs": [
    {
     "name": "stdout",
     "output_type": "stream",
     "text": [
      "[[-1.32053051 -0.23321562 -0.07675026 ... -0.09490415 -0.3205301\n",
      "  -1.77440061]\n",
      " [-0.79829278 -0.23321562 -0.07675026 ... -0.09490415 -0.3205301\n",
      "  -1.13033578]\n",
      " [-1.29348234 -0.23321562 -0.07675026 ... -0.09490415 -0.3205301\n",
      "  -0.3595135 ]\n",
      " ...\n",
      " [-0.5386907  -0.23321562 -0.07675026 ... -0.09490415 -0.3205301\n",
      "   0.17570406]\n",
      " [ 0.01393405 -0.23321562 -0.07675026 ... -0.09490415 -0.3205301\n",
      "   0.74053212]\n",
      " [-1.05816877 -0.23321562 -0.07675026 ... -0.09490415  1.22179923\n",
      "  -0.02316524]]\n"
     ]
    },
    {
     "data": {
      "text/html": [
       "<div>\n",
       "<style scoped>\n",
       "    .dataframe tbody tr th:only-of-type {\n",
       "        vertical-align: middle;\n",
       "    }\n",
       "\n",
       "    .dataframe tbody tr th {\n",
       "        vertical-align: top;\n",
       "    }\n",
       "\n",
       "    .dataframe thead th {\n",
       "        text-align: right;\n",
       "    }\n",
       "</style>\n",
       "<table border=\"1\" class=\"dataframe\">\n",
       "  <thead>\n",
       "    <tr style=\"text-align: right;\">\n",
       "      <th></th>\n",
       "      <th>0</th>\n",
       "      <th>1</th>\n",
       "      <th>2</th>\n",
       "      <th>3</th>\n",
       "      <th>4</th>\n",
       "      <th>5</th>\n",
       "      <th>6</th>\n",
       "      <th>7</th>\n",
       "      <th>8</th>\n",
       "      <th>9</th>\n",
       "      <th>10</th>\n",
       "      <th>11</th>\n",
       "      <th>12</th>\n",
       "      <th>13</th>\n",
       "      <th>14</th>\n",
       "    </tr>\n",
       "  </thead>\n",
       "  <tbody>\n",
       "    <tr>\n",
       "      <th>0</th>\n",
       "      <td>-1.320531</td>\n",
       "      <td>-0.233216</td>\n",
       "      <td>-0.07675</td>\n",
       "      <td>-0.128692</td>\n",
       "      <td>-1.357445</td>\n",
       "      <td>-0.243517</td>\n",
       "      <td>0.391883</td>\n",
       "      <td>-0.960663</td>\n",
       "      <td>-0.110677</td>\n",
       "      <td>-0.066009</td>\n",
       "      <td>0.116323</td>\n",
       "      <td>0.573379</td>\n",
       "      <td>-0.094904</td>\n",
       "      <td>-0.320530</td>\n",
       "      <td>-1.774401</td>\n",
       "    </tr>\n",
       "    <tr>\n",
       "      <th>1</th>\n",
       "      <td>-0.798293</td>\n",
       "      <td>-0.233216</td>\n",
       "      <td>-0.07675</td>\n",
       "      <td>-0.128692</td>\n",
       "      <td>-0.694838</td>\n",
       "      <td>-0.243517</td>\n",
       "      <td>0.391883</td>\n",
       "      <td>-0.684685</td>\n",
       "      <td>-0.110677</td>\n",
       "      <td>-0.066009</td>\n",
       "      <td>-1.254320</td>\n",
       "      <td>-0.602971</td>\n",
       "      <td>-0.094904</td>\n",
       "      <td>-0.320530</td>\n",
       "      <td>-1.130336</td>\n",
       "    </tr>\n",
       "    <tr>\n",
       "      <th>2</th>\n",
       "      <td>-1.293482</td>\n",
       "      <td>-0.233216</td>\n",
       "      <td>-0.07675</td>\n",
       "      <td>-0.128692</td>\n",
       "      <td>1.292985</td>\n",
       "      <td>-0.243517</td>\n",
       "      <td>0.391883</td>\n",
       "      <td>-0.960663</td>\n",
       "      <td>-0.110677</td>\n",
       "      <td>-0.066009</td>\n",
       "      <td>-0.004804</td>\n",
       "      <td>0.733844</td>\n",
       "      <td>-0.094904</td>\n",
       "      <td>-0.320530</td>\n",
       "      <td>-0.359514</td>\n",
       "    </tr>\n",
       "    <tr>\n",
       "      <th>3</th>\n",
       "      <td>-3.232628</td>\n",
       "      <td>-0.233216</td>\n",
       "      <td>-0.07675</td>\n",
       "      <td>-0.128692</td>\n",
       "      <td>-0.032230</td>\n",
       "      <td>-0.243517</td>\n",
       "      <td>0.391883</td>\n",
       "      <td>-0.960663</td>\n",
       "      <td>-0.110677</td>\n",
       "      <td>-0.066009</td>\n",
       "      <td>6.886659</td>\n",
       "      <td>-0.686397</td>\n",
       "      <td>-0.094904</td>\n",
       "      <td>-0.320530</td>\n",
       "      <td>4.065006</td>\n",
       "    </tr>\n",
       "    <tr>\n",
       "      <th>4</th>\n",
       "      <td>-0.660971</td>\n",
       "      <td>-0.233216</td>\n",
       "      <td>-0.07675</td>\n",
       "      <td>-0.128692</td>\n",
       "      <td>1.292985</td>\n",
       "      <td>-0.243517</td>\n",
       "      <td>0.034488</td>\n",
       "      <td>-0.408707</td>\n",
       "      <td>-0.110677</td>\n",
       "      <td>-0.066009</td>\n",
       "      <td>0.033447</td>\n",
       "      <td>1.012065</td>\n",
       "      <td>-0.094904</td>\n",
       "      <td>-0.320530</td>\n",
       "      <td>-0.380069</td>\n",
       "    </tr>\n",
       "    <tr>\n",
       "      <th>...</th>\n",
       "      <td>...</td>\n",
       "      <td>...</td>\n",
       "      <td>...</td>\n",
       "      <td>...</td>\n",
       "      <td>...</td>\n",
       "      <td>...</td>\n",
       "      <td>...</td>\n",
       "      <td>...</td>\n",
       "      <td>...</td>\n",
       "      <td>...</td>\n",
       "      <td>...</td>\n",
       "      <td>...</td>\n",
       "      <td>...</td>\n",
       "      <td>...</td>\n",
       "      <td>...</td>\n",
       "    </tr>\n",
       "    <tr>\n",
       "      <th>4559</th>\n",
       "      <td>-0.786537</td>\n",
       "      <td>-0.233216</td>\n",
       "      <td>-0.07675</td>\n",
       "      <td>-0.128692</td>\n",
       "      <td>-0.032230</td>\n",
       "      <td>-0.243517</td>\n",
       "      <td>-0.014714</td>\n",
       "      <td>-0.684685</td>\n",
       "      <td>-0.110677</td>\n",
       "      <td>-0.066009</td>\n",
       "      <td>2.192375</td>\n",
       "      <td>-0.576829</td>\n",
       "      <td>-0.094904</td>\n",
       "      <td>-0.320530</td>\n",
       "      <td>1.052102</td>\n",
       "    </tr>\n",
       "    <tr>\n",
       "      <th>4560</th>\n",
       "      <td>-1.456332</td>\n",
       "      <td>-0.233216</td>\n",
       "      <td>-0.07675</td>\n",
       "      <td>-0.128692</td>\n",
       "      <td>-1.357445</td>\n",
       "      <td>-0.243517</td>\n",
       "      <td>0.391883</td>\n",
       "      <td>-0.960663</td>\n",
       "      <td>-0.110677</td>\n",
       "      <td>-0.066009</td>\n",
       "      <td>-0.122743</td>\n",
       "      <td>-0.575417</td>\n",
       "      <td>-0.094904</td>\n",
       "      <td>-0.320530</td>\n",
       "      <td>0.158322</td>\n",
       "    </tr>\n",
       "    <tr>\n",
       "      <th>4561</th>\n",
       "      <td>-0.538691</td>\n",
       "      <td>-0.233216</td>\n",
       "      <td>-0.07675</td>\n",
       "      <td>-0.128692</td>\n",
       "      <td>-0.032230</td>\n",
       "      <td>-0.243517</td>\n",
       "      <td>0.063353</td>\n",
       "      <td>-0.684685</td>\n",
       "      <td>-0.110677</td>\n",
       "      <td>-0.066009</td>\n",
       "      <td>-0.335619</td>\n",
       "      <td>0.051879</td>\n",
       "      <td>-0.094904</td>\n",
       "      <td>-0.320530</td>\n",
       "      <td>0.175704</td>\n",
       "    </tr>\n",
       "    <tr>\n",
       "      <th>4562</th>\n",
       "      <td>0.013934</td>\n",
       "      <td>-0.233216</td>\n",
       "      <td>-0.07675</td>\n",
       "      <td>-0.128692</td>\n",
       "      <td>0.630377</td>\n",
       "      <td>-0.243517</td>\n",
       "      <td>0.090427</td>\n",
       "      <td>0.419228</td>\n",
       "      <td>-0.110677</td>\n",
       "      <td>-0.066009</td>\n",
       "      <td>-0.245804</td>\n",
       "      <td>-0.062540</td>\n",
       "      <td>-0.094904</td>\n",
       "      <td>-0.320530</td>\n",
       "      <td>0.740532</td>\n",
       "    </tr>\n",
       "    <tr>\n",
       "      <th>4563</th>\n",
       "      <td>-1.058169</td>\n",
       "      <td>-0.233216</td>\n",
       "      <td>-0.07675</td>\n",
       "      <td>-0.128692</td>\n",
       "      <td>-0.694838</td>\n",
       "      <td>-0.243517</td>\n",
       "      <td>0.391883</td>\n",
       "      <td>-0.960663</td>\n",
       "      <td>-0.110677</td>\n",
       "      <td>-0.066009</td>\n",
       "      <td>-0.246285</td>\n",
       "      <td>-0.394644</td>\n",
       "      <td>-0.094904</td>\n",
       "      <td>1.221799</td>\n",
       "      <td>-0.023165</td>\n",
       "    </tr>\n",
       "  </tbody>\n",
       "</table>\n",
       "<p>4564 rows × 15 columns</p>\n",
       "</div>"
      ],
      "text/plain": [
       "            0         1        2         3         4         5         6   \\\n",
       "0    -1.320531 -0.233216 -0.07675 -0.128692 -1.357445 -0.243517  0.391883   \n",
       "1    -0.798293 -0.233216 -0.07675 -0.128692 -0.694838 -0.243517  0.391883   \n",
       "2    -1.293482 -0.233216 -0.07675 -0.128692  1.292985 -0.243517  0.391883   \n",
       "3    -3.232628 -0.233216 -0.07675 -0.128692 -0.032230 -0.243517  0.391883   \n",
       "4    -0.660971 -0.233216 -0.07675 -0.128692  1.292985 -0.243517  0.034488   \n",
       "...        ...       ...      ...       ...       ...       ...       ...   \n",
       "4559 -0.786537 -0.233216 -0.07675 -0.128692 -0.032230 -0.243517 -0.014714   \n",
       "4560 -1.456332 -0.233216 -0.07675 -0.128692 -1.357445 -0.243517  0.391883   \n",
       "4561 -0.538691 -0.233216 -0.07675 -0.128692 -0.032230 -0.243517  0.063353   \n",
       "4562  0.013934 -0.233216 -0.07675 -0.128692  0.630377 -0.243517  0.090427   \n",
       "4563 -1.058169 -0.233216 -0.07675 -0.128692 -0.694838 -0.243517  0.391883   \n",
       "\n",
       "            7         8         9         10        11        12        13  \\\n",
       "0    -0.960663 -0.110677 -0.066009  0.116323  0.573379 -0.094904 -0.320530   \n",
       "1    -0.684685 -0.110677 -0.066009 -1.254320 -0.602971 -0.094904 -0.320530   \n",
       "2    -0.960663 -0.110677 -0.066009 -0.004804  0.733844 -0.094904 -0.320530   \n",
       "3    -0.960663 -0.110677 -0.066009  6.886659 -0.686397 -0.094904 -0.320530   \n",
       "4    -0.408707 -0.110677 -0.066009  0.033447  1.012065 -0.094904 -0.320530   \n",
       "...        ...       ...       ...       ...       ...       ...       ...   \n",
       "4559 -0.684685 -0.110677 -0.066009  2.192375 -0.576829 -0.094904 -0.320530   \n",
       "4560 -0.960663 -0.110677 -0.066009 -0.122743 -0.575417 -0.094904 -0.320530   \n",
       "4561 -0.684685 -0.110677 -0.066009 -0.335619  0.051879 -0.094904 -0.320530   \n",
       "4562  0.419228 -0.110677 -0.066009 -0.245804 -0.062540 -0.094904 -0.320530   \n",
       "4563 -0.960663 -0.110677 -0.066009 -0.246285 -0.394644 -0.094904  1.221799   \n",
       "\n",
       "            14  \n",
       "0    -1.774401  \n",
       "1    -1.130336  \n",
       "2    -0.359514  \n",
       "3     4.065006  \n",
       "4    -0.380069  \n",
       "...        ...  \n",
       "4559  1.052102  \n",
       "4560  0.158322  \n",
       "4561  0.175704  \n",
       "4562  0.740532  \n",
       "4563 -0.023165  \n",
       "\n",
       "[4564 rows x 15 columns]"
      ]
     },
     "execution_count": 216,
     "metadata": {},
     "output_type": "execute_result"
    }
   ],
   "source": [
    "selector = SequentialFeatureSelector(estimator=LogisticRegression(), n_features_to_select=15, direction='forward')\n",
    "selector.fit(X, y)\n",
    "\n",
    "selected_features = selector.transform(X)\n",
    "\n",
    "X = pd.DataFrame(selector.fit_transform(X, y))\n",
    "\n",
    "print(selected_features)\n",
    "X"
   ]
  },
  {
   "cell_type": "markdown",
   "id": "ccd62c73-f5a6-443a-ae46-5f363988053c",
   "metadata": {
    "tags": []
   },
   "source": [
    "## Escolha de Modelos\n",
    "\n",
    "Começamos então por dividir os dados em sets de treino e testes:"
   ]
  },
  {
   "cell_type": "code",
   "execution_count": 217,
   "id": "f2b57d7c-eadb-4dca-84d7-ed538d21d7c2",
   "metadata": {},
   "outputs": [],
   "source": [
    "# Split the data into training and testing sets\n",
    "X_train, X_test, y_train, y_test = train_test_split(X, y, test_size=0.2, random_state=42)"
   ]
  },
  {
   "cell_type": "markdown",
   "id": "2665b9fa-f1e0-464b-8f4e-55690353ebf5",
   "metadata": {},
   "source": [
    "Para este projeto escolhemos 2 modelos simples dados no início do semestre, e 2 dados mais próximo do fim da matéria.\n",
    "Escolhemos os modelos Logistic Regression, DecisionTree, RandomForest e Support Vector Machine (SVM). Como já foi referido no início do notebook, será usada a técnica do Grid Search para obtermos os melhores hiper-parametros de cada modelo."
   ]
  },
  {
   "cell_type": "markdown",
   "id": "1b0ad1ab-774a-4b86-b4f8-7654aec65598",
   "metadata": {
    "tags": []
   },
   "source": [
    "### Logistic Regression\n",
    "O Logistic Regression é um modelo usado frequentemente para classificação binária que tem como objetivo calcular a probabilidade que uma instância é positiva.\n",
    "\n",
    "Por ser um Dataset grande, foi definido que max_iter = 10000 para aumentar o número máximo de iterações que o modelo pode fazer\n",
    "\n",
    "Após definir a grid com os parametros, é possível usar o GridSearch para então calcular os melhores e de seguida fazemos Cross Validation para calcular a Accuracy:"
   ]
  },
  {
   "cell_type": "code",
   "execution_count": 218,
   "id": "eb82a835",
   "metadata": {},
   "outputs": [
    {
     "name": "stdout",
     "output_type": "stream",
     "text": [
      "Logistic Regression Best Params:  {'C': 10.0, 'penalty': 'l1', 'solver': 'liblinear'}\n",
      "Logistic Regression Estimated Accuracy:  0.9515\n"
     ]
    }
   ],
   "source": [
    "lr = LogisticRegression(max_iter = 10000)\n",
    "lr_param_grid = {\n",
    "    'penalty': ['l1', 'l2'],\n",
    "    'C': [0.1, 1.0, 10.0],\n",
    "    'solver': ['liblinear', 'saga']\n",
    "}\n",
    "\n",
    "lr_grid_search = GridSearchCV(lr, lr_param_grid, cv = 5, scoring='accuracy')\n",
    "lr_grid_search.fit(X_train, y_train)\n",
    "print(\"Logistic Regression Best Params: \", lr_grid_search.best_params_)\n",
    "lr_scores = cross_val_score(lr_grid_search.best_estimator_, X_train, y_train, cv=5)\n",
    "print(\"Logistic Regression Estimated Accuracy: %7.4f\" % (lr_scores.mean()))"
   ]
  },
  {
   "cell_type": "markdown",
   "id": "ca27f58f-7198-47c4-a319-c4106d07c891",
   "metadata": {},
   "source": [
    "Podemos verificar que C = 10.0, penalty = 'l1' e solver = 'saga' são os melhores hiper-parametros para este modelo, segundo a técnica do GridSearch."
   ]
  },
  {
   "cell_type": "markdown",
   "id": "dbaf021e-919c-40b4-891c-7198e4328feb",
   "metadata": {},
   "source": [
    "### Decision Tree\n",
    "As Decision Trees são modelos que envolvem a divisão recursiva dos dados em subconjuntos com base nos atributos que possuem maior poder de discriminação. Para fazer as divisões, as Decision Trees utilizam medidas de impureza, como o índice de Gini ou a entropia, para avaliar a pureza dos subconjuntos.\n",
    "\n",
    "Após definir a grid com os parametros, usamos o GridSearch para calcular os melhores parametros e de seguida fazemos Cross Validation para calcular a Accuracy:"
   ]
  },
  {
   "cell_type": "code",
   "execution_count": 219,
   "id": "b283e942",
   "metadata": {},
   "outputs": [
    {
     "name": "stdout",
     "output_type": "stream",
     "text": [
      "DecisionTree Best Params:  {'criterion': 'entropy', 'max_depth': 10, 'min_samples_leaf': 2, 'min_samples_split': 10}\n",
      "DecisionTree Estimated Accuracy:  0.9477\n"
     ]
    }
   ],
   "source": [
    "dt = DecisionTreeClassifier(min_samples_leaf = 5)\n",
    "dt_param_grid = {\n",
    "    'criterion': ['gini', 'entropy'],\n",
    "    'max_depth': [None, 5, 10],\n",
    "    'min_samples_split': [2, 5, 10],\n",
    "    'min_samples_leaf': [1, 2, 3]\n",
    "}\n",
    "\n",
    "dt_grid_search = GridSearchCV(dt, dt_param_grid, cv=5, scoring='accuracy')\n",
    "dt_grid_search.fit(X_train, y_train)\n",
    "print(\"DecisionTree Best Params: \", dt_grid_search.best_params_)\n",
    "dt_scores = cross_val_score(dt_grid_search.best_estimator_, X_train, y_train, cv=5)\n",
    "print(\"DecisionTree Estimated Accuracy: %7.4f\" % (dt_scores.mean()))"
   ]
  },
  {
   "cell_type": "markdown",
   "id": "771fc46a-0406-4865-b754-0d35ed9ba4cd",
   "metadata": {},
   "source": [
    "### Random Forest\n",
    "Este é o modelo de \"Bagging\" mais comum. Versátil para tratar de diferentes problemas de aprendizagem supervisionados. Usa DecisionTrees como modelo fraco pois são rápidos a 'aprender' e flexiveis o suficiente para acomodar várias subdivisões dos dados.\n",
    "\n",
    "Após definir a grid com os parametros , usamos o Grid Search para calcular os melhores hiper-parametros e de seguida fazemos Cross Validation para calcular a Accuracy:\n",
    "\n",
    "#### Nota:\n",
    "Pode demorar uns minutos a executar"
   ]
  },
  {
   "cell_type": "code",
   "execution_count": 220,
   "id": "2f9b98f5",
   "metadata": {},
   "outputs": [
    {
     "name": "stdout",
     "output_type": "stream",
     "text": [
      "Random Forest Best Params:  {'max_depth': None, 'max_features': 'log2', 'min_samples_leaf': 1, 'min_samples_split': 5, 'n_estimators': 200}\n",
      "Random Forest Estimated Accuracy:  0.9628\n"
     ]
    }
   ],
   "source": [
    "rf = RandomForestClassifier()\n",
    "rf_param_grid = {\n",
    "    'n_estimators': [100, 200, 300],\n",
    "    'max_depth': [None, 5, 10],\n",
    "    'min_samples_split': [2, 5, 10],\n",
    "    'min_samples_leaf': [1, 2, 3],\n",
    "    'max_features': ['sqrt', 'log2']\n",
    "}\n",
    "\n",
    "rf_grid_search = GridSearchCV(rf, rf_param_grid, cv=5, scoring='accuracy')\n",
    "rf_grid_search.fit(X_train, y_train)\n",
    "print(\"Random Forest Best Params: \", rf_grid_search.best_params_)\n",
    "rf_scores = cross_val_score(rf_grid_search.best_estimator_, X_train, y_train, cv=5)\n",
    "print(\"Random Forest Estimated Accuracy: %7.4f\" % (rf_scores.mean()))"
   ]
  },
  {
   "cell_type": "markdown",
   "id": "44474a87-2ab8-40fe-852c-294249eece26",
   "metadata": {},
   "source": [
    "### SVM\n",
    "O Support Vector Machine (SVM) é um modelo que pode ser usado tanto para classificação e regressão e neste caso vamos usar o Support Vector Classifier (SVC). Este procura um plano ótimo que maximize a margem entre as classes, utilizando o Kernel Trick para lidar com dados linearmente inseparáveis. É também conhecido pela sua eficácia em problemas de classificação binários e a sua capacidade de lidar com dados de grandes dimensões.\n",
    "\n",
    "Após definir a grid com os parâmetros , usamos o GridSearch para calcular os melhores hiper-parametros e de seguida fazemos Cross Validation para calcular a Accuracy:\n",
    "\n",
    "#### Nota:\n",
    "Pode demorar uns minutos a executar"
   ]
  },
  {
   "cell_type": "code",
   "execution_count": 221,
   "id": "26e333f5",
   "metadata": {},
   "outputs": [
    {
     "name": "stdout",
     "output_type": "stream",
     "text": [
      "SVM Best Params:  {'C': 1, 'gamma': 'scale', 'kernel': 'rbf'}\n",
      "SVM Estimated Accuracy:  0.9534\n"
     ]
    }
   ],
   "source": [
    "svm = SVC()\n",
    "svm_param_grid = {\n",
    "    'C': [0.1, 1, 10, 100],\n",
    "    'kernel': ['linear', 'poly', 'rbf', 'sigmoid'],\n",
    "    'gamma': ['scale', 'auto']\n",
    "}\n",
    "svm_grid_search = GridSearchCV(svm, svm_param_grid, cv=5, scoring='accuracy')\n",
    "svm_grid_search.fit(X_train, y_train)\n",
    "print(\"SVM Best Params: \", svm_grid_search.best_params_)\n",
    "svm_scores = cross_val_score(svm_grid_search.best_estimator_, X_train, y_train, cv=5)\n",
    "print(\"SVM Estimated Accuracy: %7.4f\" % (svm_scores.mean()))\n"
   ]
  },
  {
   "cell_type": "markdown",
   "id": "bb387d67-5ad7-4336-8516-ad2d29f19b0c",
   "metadata": {
    "tags": []
   },
   "source": [
    "### Primeira Análise\n",
    "Apenas olhando para a estimativa da Accuracy usando Cross Validation com os dados de treino, todos têm classificações satisfatórias, mas o Random Forest e o SVC são os melhores candidatos.\n",
    "Embora se observe uma Accuracy ligeiramente superior no RandomForest, estes dados são uma estimativa usando os dados de treino do Dataset e não são o suficiente para tirar uma conclusão, portanto vamos fazer uma avaliação aos modelos com 'predictions' e os dados de teste usando diferentes métricas, como o F1Score, Matthews Correlation Coefficient, Precision e Recall.\n",
    "Foram feitas duas avaliações diferentes, para Biodegradable = 'RB' e para Biodegradable = 'NRB':"
   ]
  },
  {
   "cell_type": "markdown",
   "id": "7e2f968d",
   "metadata": {},
   "source": [
    "## Avaliação dos Modelos (RB)"
   ]
  },
  {
   "cell_type": "markdown",
   "id": "d6f1b68f-9e75-40d0-91f6-b49d6dcc00ac",
   "metadata": {},
   "source": [
    "### Avaliação Logistic Regression\n",
    "Começamos por avaliar o modelo Logistic Regression:"
   ]
  },
  {
   "cell_type": "code",
   "execution_count": 222,
   "id": "3d09c51e",
   "metadata": {},
   "outputs": [
    {
     "name": "stdout",
     "output_type": "stream",
     "text": [
      "Logistic Regression Metrics:\n",
      "Accuracy:  0.9441\n",
      "Precision:  0.9561\n",
      "Recall:  0.9775\n",
      "Matthews correlation coefficient:  0.7958\n",
      "F1-score:  0.9667\n"
     ]
    }
   ],
   "source": [
    "lr_grid_search.best_estimator_.fit(X_train, y_train)\n",
    "lr_pred = lr_grid_search.best_estimator_.predict(X_test)\n",
    "print(\"Logistic Regression Metrics:\")\n",
    "print(\"Accuracy: %7.4f\" % accuracy_score(y_test, lr_pred))\n",
    "print(\"Precision: %7.4f\" % precision_score(y_test, lr_pred, pos_label='RB'))\n",
    "print(\"Recall: %7.4f\" % recall_score(y_test, lr_pred, pos_label='RB'))\n",
    "print(\"Matthews correlation coefficient: %7.4f\" % matthews_corrcoef(y_test, lr_pred))\n",
    "print(\"F1-score: %7.4f\" % f1_score(y_test, lr_pred, pos_label='RB'))"
   ]
  },
  {
   "cell_type": "markdown",
   "id": "50f63516-9e88-44b5-8899-e296f4325e5b",
   "metadata": {},
   "source": [
    "Conseguimos ver numa Confusion Matrix o desempenho do modelo:"
   ]
  },
  {
   "cell_type": "code",
   "execution_count": 223,
   "id": "1c110984-47d4-4c4a-bb56-b601536d2b1d",
   "metadata": {},
   "outputs": [
    {
     "data": {
      "image/png": "[encoded data removed]",
      "text/plain": [
       "<Figure size 800x600 with 2 Axes>"
      ]
     },
     "metadata": {},
     "output_type": "display_data"
    }
   ],
   "source": [
    "cm = confusion_matrix(y_test, lr_pred)\n",
    "\n",
    "cr = classification_report(y_test, lr_pred)\n",
    "\n",
    "plt.figure(figsize=(8, 6))\n",
    "plt.imshow(cm, interpolation='nearest', cmap='Blues')\n",
    "plt.colorbar()\n",
    "tick_marks = np.arange(len(np.unique(y_test)))\n",
    "plt.xticks(tick_marks, ['NRB', 'RB'])\n",
    "plt.yticks(tick_marks, ['NRB', 'RB'])\n",
    "plt.xlabel('Predicted')\n",
    "plt.ylabel('True')\n",
    "plt.title('Confusion Matrix')\n",
    "\n",
    "plt.tight_layout()\n",
    "plt.show()"
   ]
  },
  {
   "cell_type": "markdown",
   "id": "387a8bb0-d017-4e67-9fe7-92daa242b710",
   "metadata": {},
   "source": [
    "### Avaliação Decision Tree"
   ]
  },
  {
   "cell_type": "code",
   "execution_count": 224,
   "id": "a43727fc",
   "metadata": {},
   "outputs": [
    {
     "name": "stdout",
     "output_type": "stream",
     "text": [
      "Decision Tree Metrics:\n",
      "Accuracy:  0.9419\n",
      "Precision:  0.9718\n",
      "Recall:  0.9577\n",
      "The Matthews correlation coefficient is:  0.8014\n",
      "F1-score:  0.9647\n"
     ]
    }
   ],
   "source": [
    "dt_grid_search.best_estimator_.fit(X_train, y_train)\n",
    "dt_pred = dt_grid_search.best_estimator_.predict(X_test)\n",
    "print(\"Decision Tree Metrics:\")\n",
    "print(\"Accuracy: %7.4f\" % accuracy_score(y_test, dt_pred))\n",
    "print(\"Precision: %7.4f\" % precision_score(y_test, dt_pred, pos_label='RB'))\n",
    "print(\"Recall: %7.4f\" % recall_score(y_test, dt_pred, pos_label='RB'))\n",
    "print(\"The Matthews correlation coefficient is: %7.4f\" % matthews_corrcoef(y_test, dt_pred))\n",
    "print(\"F1-score: %7.4f\" % f1_score(y_test, dt_pred, pos_label='RB'))"
   ]
  },
  {
   "cell_type": "markdown",
   "id": "ab497542-5cc1-43e1-b508-ff5ff676200b",
   "metadata": {},
   "source": [
    "Conseguimos ver numa Confusion Matrix o desempenho do modelo:"
   ]
  },
  {
   "cell_type": "code",
   "execution_count": 225,
   "id": "b3ed72d1-374d-4f7c-a342-73c887d1cd3f",
   "metadata": {},
   "outputs": [
    {
     "data": {
      "image/png": "[encoded data removed]",
      "text/plain": [
       "<Figure size 800x600 with 2 Axes>"
      ]
     },
     "metadata": {},
     "output_type": "display_data"
    }
   ],
   "source": [
    "cm = confusion_matrix(y_test, dt_pred)\n",
    "\n",
    "cr = classification_report(y_test, dt_pred)\n",
    "\n",
    "plt.figure(figsize=(8, 6))\n",
    "plt.imshow(cm, interpolation='nearest', cmap='Blues')\n",
    "plt.colorbar()\n",
    "tick_marks = np.arange(len(np.unique(y_test)))\n",
    "plt.xticks(tick_marks, ['NRB', 'RB'])\n",
    "plt.yticks(tick_marks, ['NRB', 'RB'])\n",
    "plt.xlabel('Predicted')\n",
    "plt.ylabel('True')\n",
    "plt.title('Confusion Matrix')\n",
    "\n",
    "plt.tight_layout()\n",
    "plt.show()"
   ]
  },
  {
   "cell_type": "markdown",
   "id": "3a2b3f0b-2f1a-4540-8e8b-ea747c9fd480",
   "metadata": {},
   "source": [
    "### Avaliação Random Forest"
   ]
  },
  {
   "cell_type": "code",
   "execution_count": 226,
   "id": "8bc49c55",
   "metadata": {},
   "outputs": [
    {
     "name": "stdout",
     "output_type": "stream",
     "text": [
      "Random Forest Metrics:\n",
      "Accuracy:  0.9595\n",
      "Precision:  0.9749\n",
      "Recall:  0.9762\n",
      "The Matthews correlation coefficient is:  0.8566\n",
      "F1-score:  0.9756\n"
     ]
    }
   ],
   "source": [
    "rf_grid_search.best_estimator_.fit(X_train, y_train)\n",
    "rf_pred = rf_grid_search.best_estimator_.predict(X_test)\n",
    "print(\"Random Forest Metrics:\")\n",
    "print(\"Accuracy: %7.4f\" % accuracy_score(y_test, rf_pred))\n",
    "print(\"Precision: %7.4f\" % precision_score(y_test, rf_pred, pos_label='RB'))\n",
    "print(\"Recall: %7.4f\" % recall_score(y_test, rf_pred, pos_label='RB'))\n",
    "print(\"The Matthews correlation coefficient is: %7.4f\" % matthews_corrcoef(y_test, rf_pred))\n",
    "print(\"F1-score: %7.4f\" % f1_score(y_test, rf_pred, pos_label='RB'))"
   ]
  },
  {
   "cell_type": "markdown",
   "id": "b9d3d9c3-2873-4c52-aa1a-5192c5ee6a88",
   "metadata": {},
   "source": [
    "Conseguimos ver numa Confusion Matrix o desempenho do modelo:"
   ]
  },
  {
   "cell_type": "code",
   "execution_count": 227,
   "id": "e6e55387-598c-4f92-8945-bf5f68e55120",
   "metadata": {},
   "outputs": [
    {
     "data": {
      "image/png": "[encoded data removed]",
      "text/plain": [
       "<Figure size 800x600 with 2 Axes>"
      ]
     },
     "metadata": {},
     "output_type": "display_data"
    }
   ],
   "source": [
    "cm = confusion_matrix(y_test, rf_pred)\n",
    "\n",
    "cr = classification_report(y_test, rf_pred)\n",
    "\n",
    "plt.figure(figsize=(8, 6))\n",
    "plt.imshow(cm, interpolation='nearest', cmap='Blues')\n",
    "plt.colorbar()\n",
    "tick_marks = np.arange(len(np.unique(y_test)))\n",
    "plt.xticks(tick_marks, ['NRB', 'RB'])\n",
    "plt.yticks(tick_marks, ['NRB', 'RB'])\n",
    "plt.xlabel('Predicted')\n",
    "plt.ylabel('True')\n",
    "plt.title('Confusion Matrix')\n",
    "\n",
    "plt.tight_layout()\n",
    "plt.show()"
   ]
  },
  {
   "cell_type": "markdown",
   "id": "ad26b986-4cb3-4847-b343-d2c8e726f95c",
   "metadata": {},
   "source": [
    "### Avaliação SVM"
   ]
  },
  {
   "cell_type": "code",
   "execution_count": 228,
   "id": "6d336b35-c545-4369-8564-9ce4e898e07f",
   "metadata": {},
   "outputs": [
    {
     "name": "stdout",
     "output_type": "stream",
     "text": [
      "SVM Metrics:\n",
      "Accuracy:  0.9540\n",
      "Precision:  0.9613\n",
      "Recall:  0.9841\n",
      "The Matthews correlation coefficient is:  0.8321\n",
      "F1-score:  0.9726\n"
     ]
    }
   ],
   "source": [
    "svm_grid_search.best_estimator_.fit(X_train, y_train)\n",
    "svm_pred = svm_grid_search.best_estimator_.predict(X_test)\n",
    "print(\"SVM Metrics:\")\n",
    "print(\"Accuracy: %7.4f\" % accuracy_score(y_test, svm_pred))\n",
    "print(\"Precision: %7.4f\" % precision_score(y_test, svm_pred, pos_label='RB'))\n",
    "print(\"Recall: %7.4f\" % recall_score(y_test, svm_pred, pos_label='RB'))\n",
    "print(\"The Matthews correlation coefficient is: %7.4f\" % matthews_corrcoef(y_test, svm_pred))\n",
    "print(\"F1-score: %7.4f\" % f1_score(y_test, svm_pred, pos_label='RB'))"
   ]
  },
  {
   "cell_type": "markdown",
   "id": "427f4d8a-5b46-4074-95b0-cd817b382e61",
   "metadata": {},
   "source": [
    "Conseguimos ver numa Confusion Matrix o desempenho do modelo:"
   ]
  },
  {
   "cell_type": "code",
   "execution_count": 229,
   "id": "4a04f211-015f-44a9-874a-5c48a969c458",
   "metadata": {},
   "outputs": [
    {
     "data": {
      "image/png": "[encoded data removed]",
      "text/plain": [
       "<Figure size 800x600 with 2 Axes>"
      ]
     },
     "metadata": {},
     "output_type": "display_data"
    }
   ],
   "source": [
    "cm = confusion_matrix(y_test, svm_pred)\n",
    "\n",
    "cr = classification_report(y_test, svm_pred)\n",
    "\n",
    "plt.figure(figsize=(8, 6))\n",
    "plt.imshow(cm, interpolation='nearest', cmap='Blues')\n",
    "plt.colorbar()\n",
    "tick_marks = np.arange(len(np.unique(y_test)))\n",
    "plt.xticks(tick_marks, ['NRB', 'RB'])\n",
    "plt.yticks(tick_marks, ['NRB', 'RB'])\n",
    "plt.xlabel('Predicted')\n",
    "plt.ylabel('True')\n",
    "plt.title('Confusion Matrix')\n",
    "\n",
    "plt.tight_layout()\n",
    "plt.show()"
   ]
  },
  {
   "cell_type": "markdown",
   "id": "a7ef1585",
   "metadata": {},
   "source": [
    "## Avaliação dos Modelos (NRB)\n",
    "Os gráficos da Confusion Matrix não serão exibidos pois são os mesmos."
   ]
  },
  {
   "cell_type": "markdown",
   "id": "186ac484-929f-4b4e-b0b6-14f3dfa35605",
   "metadata": {},
   "source": [
    "### Avaliação Logistic Regression"
   ]
  },
  {
   "cell_type": "code",
   "execution_count": 230,
   "id": "b701dc4c",
   "metadata": {},
   "outputs": [
    {
     "name": "stdout",
     "output_type": "stream",
     "text": [
      "Logistic Regression Metrics:\n",
      "Accuracy:  0.9441\n",
      "Precision:  0.8777\n",
      "Recall:  0.7821\n",
      "The Matthews correlation coefficient is:  0.7958\n",
      "F1-score:  0.8271\n"
     ]
    }
   ],
   "source": [
    "lr_grid_search.best_estimator_.fit(X_train, y_train)\n",
    "lr_pred = lr_grid_search.best_estimator_.predict(X_test)\n",
    "print(\"Logistic Regression Metrics:\")\n",
    "print(\"Accuracy: %7.4f\" % accuracy_score(y_test, lr_pred))\n",
    "print(\"Precision: %7.4f\" % precision_score(y_test, lr_pred, pos_label='NRB'))\n",
    "print(\"Recall: %7.4f\" % recall_score(y_test, lr_pred, pos_label='NRB'))\n",
    "print(\"The Matthews correlation coefficient is: %7.4f\" % matthews_corrcoef(y_test, lr_pred))\n",
    "print(\"F1-score: %7.4f\" % f1_score(y_test, lr_pred, pos_label='NRB'))"
   ]
  },
  {
   "cell_type": "markdown",
   "id": "3a78ab5f-23fc-419a-8a41-6ceb12e625ac",
   "metadata": {},
   "source": [
    "### Avaliação Decision Tree"
   ]
  },
  {
   "cell_type": "code",
   "execution_count": 231,
   "id": "c71e9558",
   "metadata": {},
   "outputs": [
    {
     "name": "stdout",
     "output_type": "stream",
     "text": [
      "Decision Tree Metrics:\n",
      "Accuracy:  0.9419\n",
      "Precision:  0.8047\n",
      "Recall:  0.8718\n",
      "The Matthews correlation coefficient is:  0.8026\n",
      "F1-score:  0.8369\n"
     ]
    }
   ],
   "source": [
    "dt_grid_search.best_estimator_.fit(X_train, y_train)\n",
    "dt_pred = dt_grid_search.best_estimator_.predict(X_test)\n",
    "print(\"Decision Tree Metrics:\")\n",
    "print(\"Accuracy: %7.4f\" % accuracy_score(y_test, dt_pred))\n",
    "print(\"Precision: %7.4f\" % precision_score(y_test, dt_pred, pos_label='NRB'))\n",
    "print(\"Recall: %7.4f\" % recall_score(y_test, dt_pred, pos_label='NRB'))\n",
    "print(\"The Matthews correlation coefficient is: %7.4f\" % matthews_corrcoef(y_test, dt_pred))\n",
    "print(\"F1-score: %7.4f\" % f1_score(y_test, dt_pred, pos_label='NRB'))"
   ]
  },
  {
   "cell_type": "markdown",
   "id": "af2d5d88-cc72-4bb4-8396-25d40f740158",
   "metadata": {},
   "source": [
    "### Avaliação Random Forest"
   ]
  },
  {
   "cell_type": "code",
   "execution_count": 232,
   "id": "da9d34b5",
   "metadata": {},
   "outputs": [
    {
     "name": "stdout",
     "output_type": "stream",
     "text": [
      "Random Forest Metrics:\n",
      "Accuracy:  0.9617\n",
      "Precision:  0.8954\n",
      "Recall:  0.8782\n",
      "The Matthews correlation coefficient is:  0.8637\n",
      "F1-score:  0.8867\n"
     ]
    }
   ],
   "source": [
    "rf_grid_search.best_estimator_.fit(X_train, y_train)\n",
    "rf_pred = rf_grid_search.best_estimator_.predict(X_test)\n",
    "print(\"Random Forest Metrics:\")\n",
    "print(\"Accuracy: %7.4f\" % accuracy_score(y_test, rf_pred))\n",
    "print(\"Precision: %7.4f\" % precision_score(y_test, rf_pred, pos_label='NRB'))\n",
    "print(\"Recall: %7.4f\" % recall_score(y_test, rf_pred, pos_label='NRB'))\n",
    "print(\"The Matthews correlation coefficient is: %7.4f\" % matthews_corrcoef(y_test, rf_pred))\n",
    "print(\"F1-score: %7.4f\" % f1_score(y_test, rf_pred, pos_label='NRB'))"
   ]
  },
  {
   "cell_type": "markdown",
   "id": "44db7083-905e-4285-af37-66a93299aab1",
   "metadata": {},
   "source": [
    "### Avaliação SVM"
   ]
  },
  {
   "cell_type": "code",
   "execution_count": 233,
   "id": "9e871527-65e6-4648-90ef-d8639162a8f0",
   "metadata": {},
   "outputs": [
    {
     "name": "stdout",
     "output_type": "stream",
     "text": [
      "SVM Metrics:\n",
      "Accuracy:  0.9540\n",
      "Precision:  0.9130\n",
      "Recall:  0.8077\n",
      "Matthews correlation coefficient:  0.8321\n",
      "F1-score:  0.8571\n"
     ]
    }
   ],
   "source": [
    "svm_grid_search.best_estimator_.fit(X_train, y_train)\n",
    "svm_pred = svm_grid_search.best_estimator_.predict(X_test)\n",
    "print(\"SVM Metrics:\")\n",
    "print(\"Accuracy: %7.4f\" % accuracy_score(y_test, svm_pred))\n",
    "print(\"Precision: %7.4f\" % precision_score(y_test, svm_pred, pos_label='NRB'))\n",
    "print(\"Recall: %7.4f\" % recall_score(y_test, svm_pred, pos_label='NRB'))\n",
    "print(\"Matthews correlation coefficient: %7.4f\" % matthews_corrcoef(y_test, svm_pred))\n",
    "print(\"F1-score: %7.4f\" % f1_score(y_test, svm_pred, pos_label='NRB'))"
   ]
  },
  {
   "cell_type": "markdown",
   "id": "1964a91f-e033-4fbe-adea-957e6dd254eb",
   "metadata": {},
   "source": [
    "## Conclusão:\n",
    "\n",
    "Na avaliação podemos verificar que os modelos que melhor pontuam em Accuracy são o Random Forest e o SVM as restantes métricas bastante semelhantes entre si. \n",
    "\n",
    "Para uma melhor comparação entre os dois, podemos analisar as suas métricas lado a lado:\n",
    "\n",
    "Para Biodegradable = 'RB'"
   ]
  },
  {
   "cell_type": "code",
   "execution_count": 236,
   "id": "e2082467-fb70-4745-ac63-954a1bb05b42",
   "metadata": {},
   "outputs": [
    {
     "name": "stdout",
     "output_type": "stream",
     "text": [
      "Random Forest Accuracy:  0.9617\n",
      "SVM Accuracy:  0.9540\n",
      "Random Forest Precision:  0.9750\n",
      "SVM Precision:  0.9613\n",
      "Random Forest Matthews correlation coefficient is:  0.8637\n",
      "SVM Matthews correlation coefficient is:  0.8321\n",
      "Random Forest Recall:  0.9789\n",
      "SVM Recall:  0.9841\n",
      "Random Forest F1-score:  0.9769\n",
      "SVM F1-score:  0.9726\n"
     ]
    }
   ],
   "source": [
    "print(\"Random Forest Accuracy: %7.4f\" % accuracy_score(y_test, rf_pred))\n",
    "print(\"SVM Accuracy: %7.4f\" % accuracy_score(y_test, svm_pred))\n",
    "print(\"Random Forest Precision: %7.4f\" % precision_score(y_test, rf_pred, pos_label='RB'))\n",
    "print(\"SVM Precision: %7.4f\" % precision_score(y_test, svm_pred, pos_label='RB'))\n",
    "print(\"Random Forest Matthews correlation coefficient is: %7.4f\" % matthews_corrcoef(y_test, rf_pred))\n",
    "print(\"SVM Matthews correlation coefficient is: %7.4f\" % matthews_corrcoef(y_test, svm_pred))\n",
    "print(\"Random Forest Recall: %7.4f\" % recall_score(y_test, rf_pred, pos_label='RB'))\n",
    "print(\"SVM Recall: %7.4f\" % recall_score(y_test, svm_pred, pos_label='RB'))\n",
    "print(\"Random Forest F1-score: %7.4f\" % f1_score(y_test, rf_pred, pos_label='RB'))\n",
    "print(\"SVM F1-score: %7.4f\" % f1_score(y_test, svm_pred, pos_label='RB'))"
   ]
  },
  {
   "cell_type": "markdown",
   "id": "512e7ef2-0d85-4cfa-8f27-b37397586b5a",
   "metadata": {},
   "source": [
    "Para Biodegradable = 'NRB'"
   ]
  },
  {
   "cell_type": "code",
   "execution_count": 235,
   "id": "594cd389-9721-4079-978a-46b6630fbdc4",
   "metadata": {},
   "outputs": [
    {
     "name": "stdout",
     "output_type": "stream",
     "text": [
      "Random Forest Accuracy:  0.9617\n",
      "SVM Accuracy:  0.9540\n",
      "Random Forest Precision:  0.8954\n",
      "SVM Precision:  0.9130\n",
      "Random Forest Matthews correlation coefficient is:  0.8637\n",
      "SVM Matthews correlation coefficient is:  0.8321\n",
      "Random Forest Recall:  0.8782\n",
      "SVM Recall:  0.8077\n",
      "Random Forest F1-score:  0.8867\n",
      "SVM F1-score:  0.8571\n"
     ]
    }
   ],
   "source": [
    "print(\"Random Forest Accuracy: %7.4f\" % accuracy_score(y_test, rf_pred))\n",
    "print(\"SVM Accuracy: %7.4f\" % accuracy_score(y_test, svm_pred))\n",
    "print(\"Random Forest Precision: %7.4f\" % precision_score(y_test, rf_pred, pos_label='NRB'))\n",
    "print(\"SVM Precision: %7.4f\" % precision_score(y_test, svm_pred, pos_label='NRB'))\n",
    "print(\"Random Forest Matthews correlation coefficient is: %7.4f\" % matthews_corrcoef(y_test, rf_pred))\n",
    "print(\"SVM Matthews correlation coefficient is: %7.4f\" % matthews_corrcoef(y_test, svm_pred))\n",
    "print(\"Random Forest Recall: %7.4f\" % recall_score(y_test, rf_pred, pos_label='NRB'))\n",
    "print(\"SVM Recall: %7.4f\" % recall_score(y_test, svm_pred, pos_label='NRB'))\n",
    "print(\"Random Forest F1-score: %7.4f\" % f1_score(y_test, rf_pred, pos_label='NRB'))\n",
    "print(\"SVM F1-score: %7.4f\" % f1_score(y_test, svm_pred, pos_label='NRB'))"
   ]
  },
  {
   "cell_type": "markdown",
   "id": "54b95bff-ca8e-4b13-83ac-64764313068b",
   "metadata": {},
   "source": [
    "As métricas que variam consoante o valor de Biodegradable colocam o Random Forest e o SVM em empate. Podemos concluir que ambos são modelos robustos e eficientes para problemas de classificação, pelos valores das métricas usadas e também se verifica visualmente nas Confusion Matrix que ambos atingem bons resultados. Pela Accuracy e Matthews Correlation Coefficient, o modelo Random Forest costuma atingir melhores resultados. Sendo a Accuracy a métrica escolhida para influenciar o aperfeiçoamento dos hiper-parâmetros dos modelos, e MCC que avalia a qualidade das classificações binárias, o Random Forest é o melhor modelo de classificação produzido no projeto para o QSAR biodegradation Data Set."
   ]
  }
 ],
 "metadata": {
  "kernelspec": {
   "display_name": "Python 3 (ipykernel)",
   "language": "python",
   "name": "python3"
  },
  "language_info": {
   "codemirror_mode": {
    "name": "ipython",
    "version": 3
   },
   "file_extension": ".py",
   "mimetype": "text/x-python",
   "name": "python",
   "nbconvert_exporter": "python",
   "pygments_lexer": "ipython3",
   "version": "3.9.13"
  }
 },
 "nbformat": 4,
 "nbformat_minor": 5
}
